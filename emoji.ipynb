{
 "cells": [
  {
   "cell_type": "code",
   "execution_count": 1,
   "metadata": {},
   "outputs": [],
   "source": [
    "import arcade\n",
    "\n",
    "SCREEN_WIDTH = 600\n",
    "SCREEN_HEIGHT = 600\n",
    "SCREEN_TITLE = \"Happy Face Example\"\n",
    "\n",
    "arcade.open_window(SCREEN_WIDTH, SCREEN_HEIGHT, SCREEN_TITLE)\n",
    "\n",
    "arcade.set_background_color(arcade.color.WHITE)\n",
    "\n",
    "arcade.start_render()\n",
    "\n",
    "# face\n",
    "x = 300\n",
    "y = 300\n",
    "radius = 200\n",
    "arcade.draw_circle_filled(x, y, radius, arcade.color.YELLOW)\n",
    "\n",
    "# r_eye\n",
    "x = 370\n",
    "y = 350\n",
    "radius = 20\n",
    "arcade.draw_circle_filled(x, y, radius, arcade.color.BLACK)\n",
    "\n",
    "# l_eye\n",
    "x = 230\n",
    "y = 350\n",
    "radius = 20\n",
    "arcade.draw_circle_filled(x, y, radius, arcade.color.BLACK)\n",
    "\n",
    "# happy face\n",
    "x = 300\n",
    "y = 280\n",
    "width = 120\n",
    "height = 100\n",
    "start_angle = 190\n",
    "end_angle = 350\n",
    "arcade.draw_arc_outline(x, y, width, height, arcade.color.BLACK,start_angle, end_angle, 10)\n",
    "arcade.finish_render()\n",
    "arcade.run()"
   ]
  }
 ],
 "metadata": {
  "kernelspec": {
   "display_name": "Python 3",
   "language": "python",
   "name": "python3"
  },
  "language_info": {
   "codemirror_mode": {
    "name": "ipython",
    "version": 3
   },
   "file_extension": ".py",
   "mimetype": "text/x-python",
   "name": "python",
   "nbconvert_exporter": "python",
   "pygments_lexer": "ipython3",
   "version": "3.8.3"
  }
 },
 "nbformat": 4,
 "nbformat_minor": 4
}
